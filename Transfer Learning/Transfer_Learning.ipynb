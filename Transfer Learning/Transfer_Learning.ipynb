{
 "cells": [
  {
   "cell_type": "code",
   "execution_count": 1,
   "metadata": {},
   "outputs": [],
   "source": [
    "import matplotlib.pyplot as plt\n",
    "import numpy as np\n",
    "import cv2\n",
    "import os\n",
    "import PIL.Image as Image\n",
    "import tensorflow as tf\n",
    "import tensorflow_hub as hub\n",
    "import pathlib\n",
    "from tensorflow import keras\n",
    "from sklearn.model_selection import train_test_split"
   ]
  },
  {
   "cell_type": "code",
   "execution_count": 2,
   "metadata": {},
   "outputs": [],
   "source": [
    "Trans_Learn = tf.keras.Sequential([\n",
    "    hub.KerasLayer(\"https://tfhub.dev/google/imagenet/mobilenet_v2_130_224/classification/4\")\n",
    "])"
   ]
  },
  {
   "cell_type": "code",
   "execution_count": 3,
   "metadata": {},
   "outputs": [],
   "source": [
    "dataset_url = \"https://storage.googleapis.com/download.tensorflow.org/example_images/flower_photos.tgz\"\n",
    "data_dir = tf.keras.utils.get_file('flower_photos', origin=dataset_url,  cache_dir='.', untar=True)"
   ]
  },
  {
   "cell_type": "code",
   "execution_count": 4,
   "metadata": {},
   "outputs": [
    {
     "data": {
      "text/plain": [
       "WindowsPath('datasets/flower_photos')"
      ]
     },
     "execution_count": 4,
     "metadata": {},
     "output_type": "execute_result"
    }
   ],
   "source": [
    "data_dir = pathlib.Path(data_dir)\n",
    "data_dir"
   ]
  },
  {
   "cell_type": "code",
   "execution_count": 5,
   "metadata": {},
   "outputs": [
    {
     "data": {
      "text/plain": [
       "3670"
      ]
     },
     "execution_count": 5,
     "metadata": {},
     "output_type": "execute_result"
    }
   ],
   "source": [
    "image_count = len(list(data_dir.glob('*/*')))\n",
    "image_count"
   ]
  },
  {
   "cell_type": "code",
   "execution_count": 6,
   "metadata": {},
   "outputs": [
    {
     "name": "stdout",
     "output_type": "stream",
     "text": [
      "641 699 633 799 898\n"
     ]
    }
   ],
   "source": [
    "roses = list(data_dir.glob('roses/*'))\n",
    "sunflowers = list(data_dir.glob('sunflowers/*'))\n",
    "daisy = list(data_dir.glob('daisy/*'))\n",
    "tulips = list(data_dir.glob('tulips/*'))\n",
    "dandelion = list(data_dir.glob('dandelion/*'))\n",
    "print(len(roses),len(sunflowers),len(daisy),len(tulips),len(dandelion))"
   ]
  },
  {
   "cell_type": "code",
   "execution_count": 7,
   "metadata": {},
   "outputs": [],
   "source": [
    "flowers = {\n",
    "    'R' : roses,\n",
    "    'S' : sunflowers,\n",
    "    'D' : daisy,\n",
    "    'T' : tulips,\n",
    "    'E' : dandelion\n",
    "}"
   ]
  },
  {
   "cell_type": "code",
   "execution_count": 8,
   "metadata": {},
   "outputs": [],
   "source": [
    "labels = {\n",
    "    'R' : 0,\n",
    "    'S' : 1,\n",
    "    'D' : 2,\n",
    "    'T' : 3,\n",
    "    'E' : 4\n",
    "}"
   ]
  },
  {
   "cell_type": "code",
   "execution_count": 9,
   "metadata": {},
   "outputs": [
    {
     "name": "stdout",
     "output_type": "stream",
     "text": [
      "(240, 179, 3)\n"
     ]
    },
    {
     "data": {
      "text/plain": [
       "tf.float32"
      ]
     },
     "execution_count": 9,
     "metadata": {},
     "output_type": "execute_result"
    }
   ],
   "source": [
    "img = cv2.imread(str(flowers['R'][0]))\n",
    "print(img.shape)\n",
    "resize = cv2.resize(img,(,200))\n",
    "resize = tf.cast(resize,tf.float32)\n",
    "resize.dtype"
   ]
  },
  {
   "cell_type": "code",
   "execution_count": 10,
   "metadata": {},
   "outputs": [],
   "source": [
    "X = []\n",
    "Y = []\n",
    "for flower,images in flowers.items():\n",
    "    for image in images:\n",
    "        img = cv2.imread(str(image))\n",
    "        resize = cv2.resize(img,(224,224))\n",
    "        resize = tf.cast(resize,tf.float32)\n",
    "        X.append(resize)\n",
    "        Y.append(labels[flower])"
   ]
  },
  {
   "cell_type": "code",
   "execution_count": 11,
   "metadata": {},
   "outputs": [],
   "source": [
    "X = np.array(X)\n",
    "Y = np.array(Y)\n",
    "X_train,X_test,y_train,y_test = train_test_split(X,Y,random_state = 0)"
   ]
  },
  {
   "cell_type": "code",
   "execution_count": 12,
   "metadata": {},
   "outputs": [],
   "source": [
    "num_classes = 5 \n",
    "TransFeature = tf.keras.Sequential([\n",
    "    hub.KerasLayer(\"https://tfhub.dev/google/tf2-preview/mobilenet_v2/feature_vector/4\", input_shape=[224,224,3],\n",
    "                   trainable=False),\n",
    "    tf.keras.layers.Dense(num_classes, activation='softmax')\n",
    "])"
   ]
  },
  {
   "cell_type": "code",
   "execution_count": 13,
   "metadata": {},
   "outputs": [],
   "source": [
    "TransFeature.compile(optimizer='adam',\n",
    "           loss = tf.keras.losses.SparseCategoricalCrossentropy(from_logits=True),\n",
    "           metrics=['accuracy'])"
   ]
  },
  {
   "cell_type": "code",
   "execution_count": 14,
   "metadata": {},
   "outputs": [
    {
     "name": "stdout",
     "output_type": "stream",
     "text": [
      "Model: \"sequential_1\"\n",
      "_________________________________________________________________\n",
      "Layer (type)                 Output Shape              Param #   \n",
      "=================================================================\n",
      "keras_layer_1 (KerasLayer)   (None, 1280)              2257984   \n",
      "_________________________________________________________________\n",
      "dense (Dense)                (None, 5)                 6405      \n",
      "=================================================================\n",
      "Total params: 2,264,389\n",
      "Trainable params: 6,405\n",
      "Non-trainable params: 2,257,984\n",
      "_________________________________________________________________\n"
     ]
    }
   ],
   "source": [
    "TransFeature.summary()"
   ]
  },
  {
   "cell_type": "code",
   "execution_count": 18,
   "metadata": {},
   "outputs": [
    {
     "name": "stdout",
     "output_type": "stream",
     "text": [
      "Epoch 1/25\n",
      "86/86 [==============================] - 10s 107ms/step - loss: 0.9394 - accuracy: 0.6562\n",
      "Epoch 2/25\n",
      "86/86 [==============================] - 9s 102ms/step - loss: 0.9217 - accuracy: 0.6653\n",
      "Epoch 3/25\n",
      "86/86 [==============================] - 9s 102ms/step - loss: 0.8858 - accuracy: 0.6766\n",
      "Epoch 4/25\n",
      "86/86 [==============================] - 9s 110ms/step - loss: 0.8608 - accuracy: 0.6886\n",
      "Epoch 5/25\n",
      "86/86 [==============================] - 9s 106ms/step - loss: 0.8406 - accuracy: 0.6922\n",
      "Epoch 6/25\n",
      "86/86 [==============================] - 9s 102ms/step - loss: 0.8134 - accuracy: 0.7049\n",
      "Epoch 7/25\n",
      "86/86 [==============================] - 9s 102ms/step - loss: 0.8057 - accuracy: 0.7129\n",
      "Epoch 8/25\n",
      "86/86 [==============================] - 9s 102ms/step - loss: 0.7784 - accuracy: 0.7253\n",
      "Epoch 9/25\n",
      "86/86 [==============================] - 9s 103ms/step - loss: 0.7703 - accuracy: 0.7340\n",
      "Epoch 10/25\n",
      "86/86 [==============================] - 9s 103ms/step - loss: 0.7507 - accuracy: 0.7366\n",
      "Epoch 11/25\n",
      "86/86 [==============================] - 9s 103ms/step - loss: 0.7375 - accuracy: 0.7515\n",
      "Epoch 12/25\n",
      "86/86 [==============================] - 9s 103ms/step - loss: 0.7205 - accuracy: 0.7565\n",
      "Epoch 13/25\n",
      "86/86 [==============================] - 9s 103ms/step - loss: 0.7036 - accuracy: 0.7649\n",
      "Epoch 14/25\n",
      "86/86 [==============================] - 9s 103ms/step - loss: 0.7038 - accuracy: 0.7609\n",
      "Epoch 15/25\n",
      "86/86 [==============================] - 9s 104ms/step - loss: 0.6948 - accuracy: 0.7613\n",
      "Epoch 16/25\n",
      "86/86 [==============================] - 9s 103ms/step - loss: 0.6836 - accuracy: 0.7674\n",
      "Epoch 17/25\n",
      "86/86 [==============================] - 9s 103ms/step - loss: 0.6754 - accuracy: 0.7736\n",
      "Epoch 18/25\n",
      "86/86 [==============================] - 9s 103ms/step - loss: 0.6685 - accuracy: 0.7743\n",
      "Epoch 19/25\n",
      "86/86 [==============================] - 9s 104ms/step - loss: 0.6548 - accuracy: 0.7762\n",
      "Epoch 20/25\n",
      "86/86 [==============================] - 9s 104ms/step - loss: 0.6436 - accuracy: 0.7845\n",
      "Epoch 21/25\n",
      "86/86 [==============================] - 9s 103ms/step - loss: 0.6420 - accuracy: 0.7783\n",
      "Epoch 22/25\n",
      "86/86 [==============================] - 9s 104ms/step - loss: 0.6330 - accuracy: 0.7845\n",
      "Epoch 23/25\n",
      "86/86 [==============================] - 9s 104ms/step - loss: 0.6166 - accuracy: 0.7932\n",
      "Epoch 24/25\n",
      "86/86 [==============================] - 9s 104ms/step - loss: 0.6198 - accuracy: 0.7896\n",
      "Epoch 25/25\n",
      "86/86 [==============================] - 9s 104ms/step - loss: 0.6140 - accuracy: 0.7852\n"
     ]
    },
    {
     "data": {
      "text/plain": [
       "<tensorflow.python.keras.callbacks.History at 0x2d3335bc4c0>"
      ]
     },
     "execution_count": 18,
     "metadata": {},
     "output_type": "execute_result"
    }
   ],
   "source": [
    "TransFeature.fit(X_train,y_train,epochs=25)"
   ]
  },
  {
   "cell_type": "code",
   "execution_count": 19,
   "metadata": {},
   "outputs": [
    {
     "name": "stdout",
     "output_type": "stream",
     "text": [
      "29/29 [==============================] - 3s 102ms/step - loss: 1.0394 - accuracy: 0.6198\n"
     ]
    },
    {
     "data": {
      "text/plain": [
       "[1.0393860340118408, 0.6198257207870483]"
      ]
     },
     "execution_count": 19,
     "metadata": {},
     "output_type": "execute_result"
    }
   ],
   "source": [
    "TransFeature.evaluate(X_test,y_test)"
   ]
  },
  {
   "cell_type": "code",
   "execution_count": null,
   "metadata": {},
   "outputs": [],
   "source": []
  }
 ],
 "metadata": {
  "kernelspec": {
   "display_name": "Python 3",
   "language": "python",
   "name": "python3"
  },
  "language_info": {
   "codemirror_mode": {
    "name": "ipython",
    "version": 3
   },
   "file_extension": ".py",
   "mimetype": "text/x-python",
   "name": "python",
   "nbconvert_exporter": "python",
   "pygments_lexer": "ipython3",
   "version": "3.8.0"
  }
 },
 "nbformat": 4,
 "nbformat_minor": 4
}
