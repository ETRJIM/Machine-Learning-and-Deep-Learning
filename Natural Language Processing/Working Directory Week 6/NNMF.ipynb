{
 "cells": [
  {
   "cell_type": "code",
   "execution_count": 1,
   "id": "46a151bb-b1c2-46b3-924f-c21c20a3d4e8",
   "metadata": {},
   "outputs": [],
   "source": [
    "import spacy\n",
    "import numpy as np\n",
    "import pandas as pd"
   ]
  },
  {
   "cell_type": "code",
   "execution_count": 2,
   "id": "43591132-3422-4072-8e07-4a57ed103bf2",
   "metadata": {},
   "outputs": [],
   "source": [
    "npr = pd.read_csv('npr.csv')"
   ]
  },
  {
   "cell_type": "code",
   "execution_count": 3,
   "id": "578ea9d3-3655-499c-a2a0-6e25da7eb640",
   "metadata": {},
   "outputs": [],
   "source": [
    "from sklearn.feature_extraction.text import TfidfVectorizer"
   ]
  },
  {
   "cell_type": "code",
   "execution_count": 4,
   "id": "0215f5fc-6d94-4491-9b98-49d963acddde",
   "metadata": {},
   "outputs": [],
   "source": [
    "tfidf = TfidfVectorizer(max_df=0.95,min_df=2,stop_words='english')\n",
    "dtm = tfidf.fit_transform(npr['Article'])"
   ]
  },
  {
   "cell_type": "code",
   "execution_count": 5,
   "id": "49bb9484-fcbd-4d10-b0d1-a3fb22e69ad3",
   "metadata": {},
   "outputs": [],
   "source": [
    "from sklearn.decomposition import NMF"
   ]
  },
  {
   "cell_type": "code",
   "execution_count": 8,
   "id": "5f652935-3772-497b-b00f-f8c1488e22ca",
   "metadata": {},
   "outputs": [],
   "source": [
    "nmf_model = NMF(n_components=7,random_state=42,init='nndsvd')"
   ]
  },
  {
   "cell_type": "code",
   "execution_count": 9,
   "id": "829a1918-70ac-4de3-a6c5-ff6bcd4167f4",
   "metadata": {},
   "outputs": [
    {
     "data": {
      "text/plain": [
       "NMF(init='nndsvd', n_components=7, random_state=42)"
      ]
     },
     "execution_count": 9,
     "metadata": {},
     "output_type": "execute_result"
    }
   ],
   "source": [
    "nmf_model.fit(dtm)"
   ]
  },
  {
   "cell_type": "code",
   "execution_count": 13,
   "id": "93a16381-daf8-4518-9068-85649ef3697f",
   "metadata": {},
   "outputs": [],
   "source": [
    "words = tfidf.get_feature_names()"
   ]
  },
  {
   "cell_type": "code",
   "execution_count": 14,
   "id": "9421b975-c10a-45d8-a8be-aa51047fa34c",
   "metadata": {},
   "outputs": [
    {
     "name": "stdout",
     "output_type": "stream",
     "text": [
      "For the topic  1\n",
      "['new', 'research', 'like', 'patients', 'health', 'disease', 'percent', 'women', 'virus', 'study', 'water', 'food', 'people', 'zika', 'says']\n",
      "\n",
      " \n",
      " \n",
      "\n",
      "For the topic  2\n",
      "['gop', 'pence', 'presidential', 'russia', 'administration', 'election', 'republican', 'obama', 'white', 'house', 'donald', 'campaign', 'said', 'president', 'trump']\n",
      "\n",
      " \n",
      " \n",
      "\n",
      "For the topic  3\n",
      "['senate', 'house', 'people', 'act', 'law', 'tax', 'plan', 'republicans', 'affordable', 'obamacare', 'coverage', 'medicaid', 'insurance', 'care', 'health']\n",
      "\n",
      " \n",
      " \n",
      "\n",
      "For the topic  4\n",
      "['officers', 'syria', 'security', 'department', 'law', 'isis', 'russia', 'government', 'state', 'attack', 'president', 'reports', 'court', 'said', 'police']\n",
      "\n",
      " \n",
      " \n",
      "\n",
      "For the topic  5\n",
      "['primary', 'cruz', 'election', 'democrats', 'percent', 'party', 'delegates', 'vote', 'state', 'democratic', 'hillary', 'campaign', 'voters', 'sanders', 'clinton']\n",
      "\n",
      " \n",
      " \n",
      "\n",
      "For the topic  6\n",
      "['love', 've', 'don', 'album', 'way', 'time', 'song', 'life', 'really', 'know', 'people', 'think', 'just', 'music', 'like']\n",
      "\n",
      " \n",
      " \n",
      "\n",
      "For the topic  7\n",
      "['teacher', 'state', 'high', 'says', 'parents', 'devos', 'children', 'college', 'kids', 'teachers', 'student', 'education', 'schools', 'school', 'students']\n",
      "\n",
      " \n",
      " \n",
      "\n"
     ]
    }
   ],
   "source": [
    "count = 0\n",
    "for topic in nmf_model.components_:\n",
    "    new = []\n",
    "    count += 1\n",
    "    print('For the topic ',count)\n",
    "    for index in topic.argsort()[-15:]:\n",
    "        new.append(words[index])\n",
    "    print(new)\n",
    "    print('\\n','\\n','\\n')"
   ]
  },
  {
   "cell_type": "code",
   "execution_count": 21,
   "id": "c553025b-33db-4ef5-b373-d9e2239b50a5",
   "metadata": {},
   "outputs": [],
   "source": [
    "topic_results = nmf_model.transform(dtm)"
   ]
  },
  {
   "cell_type": "code",
   "execution_count": 67,
   "id": "270751f0-78ad-4f52-9876-75d0be2118a9",
   "metadata": {},
   "outputs": [],
   "source": [
    "naming = {1:'Health',2:'National Politics',3:'Health Ministry',4:'World Affairs',5:'Elections',6:'Music',7:'Education'}"
   ]
  },
  {
   "cell_type": "code",
   "execution_count": 69,
   "id": "fa9525ed-5393-4fb7-93eb-2ad572ecde2f",
   "metadata": {},
   "outputs": [],
   "source": [
    "for i in range(len(npr)):\n",
    "    npr['topic'][i] = naming[int((topic_results.argmax(axis=1)+1)[i])]"
   ]
  },
  {
   "cell_type": "code",
   "execution_count": 71,
   "id": "9c7b85f2-e823-4f17-a4a1-1a8d15874d59",
   "metadata": {},
   "outputs": [],
   "source": [
    "npr['top'] = topic_results.argmax(axis=1)+1"
   ]
  },
  {
   "cell_type": "code",
   "execution_count": 73,
   "id": "6417d181-5c7e-4cf9-ac7a-6ece68eb4d56",
   "metadata": {},
   "outputs": [],
   "source": [
    "npr['T'] = npr['top'].map(naming)"
   ]
  },
  {
   "cell_type": "code",
   "execution_count": 74,
   "id": "6ce5c72d-c5bf-4841-8de6-637c71178f5d",
   "metadata": {},
   "outputs": [
    {
     "data": {
      "text/html": [
       "<div>\n",
       "<style scoped>\n",
       "    .dataframe tbody tr th:only-of-type {\n",
       "        vertical-align: middle;\n",
       "    }\n",
       "\n",
       "    .dataframe tbody tr th {\n",
       "        vertical-align: top;\n",
       "    }\n",
       "\n",
       "    .dataframe thead th {\n",
       "        text-align: right;\n",
       "    }\n",
       "</style>\n",
       "<table border=\"1\" class=\"dataframe\">\n",
       "  <thead>\n",
       "    <tr style=\"text-align: right;\">\n",
       "      <th></th>\n",
       "      <th>Article</th>\n",
       "      <th>topic</th>\n",
       "      <th>top</th>\n",
       "      <th>T</th>\n",
       "    </tr>\n",
       "  </thead>\n",
       "  <tbody>\n",
       "    <tr>\n",
       "      <th>0</th>\n",
       "      <td>In the Washington of 2016, even when the polic...</td>\n",
       "      <td>National Politics</td>\n",
       "      <td>2</td>\n",
       "      <td>National Politics</td>\n",
       "    </tr>\n",
       "    <tr>\n",
       "      <th>1</th>\n",
       "      <td>Donald Trump has used Twitter  —   his prefe...</td>\n",
       "      <td>National Politics</td>\n",
       "      <td>2</td>\n",
       "      <td>National Politics</td>\n",
       "    </tr>\n",
       "    <tr>\n",
       "      <th>2</th>\n",
       "      <td>Donald Trump is unabashedly praising Russian...</td>\n",
       "      <td>National Politics</td>\n",
       "      <td>2</td>\n",
       "      <td>National Politics</td>\n",
       "    </tr>\n",
       "    <tr>\n",
       "      <th>3</th>\n",
       "      <td>Updated at 2:50 p. m. ET, Russian President Vl...</td>\n",
       "      <td>World Affairs</td>\n",
       "      <td>4</td>\n",
       "      <td>World Affairs</td>\n",
       "    </tr>\n",
       "    <tr>\n",
       "      <th>4</th>\n",
       "      <td>From photography, illustration and video, to d...</td>\n",
       "      <td>Education</td>\n",
       "      <td>7</td>\n",
       "      <td>Education</td>\n",
       "    </tr>\n",
       "    <tr>\n",
       "      <th>...</th>\n",
       "      <td>...</td>\n",
       "      <td>...</td>\n",
       "      <td>...</td>\n",
       "      <td>...</td>\n",
       "    </tr>\n",
       "    <tr>\n",
       "      <th>11987</th>\n",
       "      <td>The number of law enforcement officers shot an...</td>\n",
       "      <td>World Affairs</td>\n",
       "      <td>4</td>\n",
       "      <td>World Affairs</td>\n",
       "    </tr>\n",
       "    <tr>\n",
       "      <th>11988</th>\n",
       "      <td>Trump is busy these days with victory tours,...</td>\n",
       "      <td>National Politics</td>\n",
       "      <td>2</td>\n",
       "      <td>National Politics</td>\n",
       "    </tr>\n",
       "    <tr>\n",
       "      <th>11989</th>\n",
       "      <td>It’s always interesting for the Goats and Soda...</td>\n",
       "      <td>Health</td>\n",
       "      <td>1</td>\n",
       "      <td>Health</td>\n",
       "    </tr>\n",
       "    <tr>\n",
       "      <th>11990</th>\n",
       "      <td>The election of Donald Trump was a surprise to...</td>\n",
       "      <td>Elections</td>\n",
       "      <td>5</td>\n",
       "      <td>Elections</td>\n",
       "    </tr>\n",
       "    <tr>\n",
       "      <th>11991</th>\n",
       "      <td>Voters in the English city of Sunderland did s...</td>\n",
       "      <td>World Affairs</td>\n",
       "      <td>4</td>\n",
       "      <td>World Affairs</td>\n",
       "    </tr>\n",
       "  </tbody>\n",
       "</table>\n",
       "<p>11992 rows × 4 columns</p>\n",
       "</div>"
      ],
      "text/plain": [
       "                                                 Article              topic  \\\n",
       "0      In the Washington of 2016, even when the polic...  National Politics   \n",
       "1        Donald Trump has used Twitter  —   his prefe...  National Politics   \n",
       "2        Donald Trump is unabashedly praising Russian...  National Politics   \n",
       "3      Updated at 2:50 p. m. ET, Russian President Vl...      World Affairs   \n",
       "4      From photography, illustration and video, to d...          Education   \n",
       "...                                                  ...                ...   \n",
       "11987  The number of law enforcement officers shot an...      World Affairs   \n",
       "11988    Trump is busy these days with victory tours,...  National Politics   \n",
       "11989  It’s always interesting for the Goats and Soda...             Health   \n",
       "11990  The election of Donald Trump was a surprise to...          Elections   \n",
       "11991  Voters in the English city of Sunderland did s...      World Affairs   \n",
       "\n",
       "       top                  T  \n",
       "0        2  National Politics  \n",
       "1        2  National Politics  \n",
       "2        2  National Politics  \n",
       "3        4      World Affairs  \n",
       "4        7          Education  \n",
       "...    ...                ...  \n",
       "11987    4      World Affairs  \n",
       "11988    2  National Politics  \n",
       "11989    1             Health  \n",
       "11990    5          Elections  \n",
       "11991    4      World Affairs  \n",
       "\n",
       "[11992 rows x 4 columns]"
      ]
     },
     "execution_count": 74,
     "metadata": {},
     "output_type": "execute_result"
    }
   ],
   "source": [
    "npr"
   ]
  },
  {
   "cell_type": "code",
   "execution_count": null,
   "id": "15ae76a9-0e3d-4982-808e-846f1cacd6d0",
   "metadata": {},
   "outputs": [],
   "source": []
  }
 ],
 "metadata": {
  "kernelspec": {
   "display_name": "Python 3",
   "language": "python",
   "name": "python3"
  },
  "language_info": {
   "codemirror_mode": {
    "name": "ipython",
    "version": 3
   },
   "file_extension": ".py",
   "mimetype": "text/x-python",
   "name": "python",
   "nbconvert_exporter": "python",
   "pygments_lexer": "ipython3",
   "version": "3.9.2"
  }
 },
 "nbformat": 4,
 "nbformat_minor": 5
}
