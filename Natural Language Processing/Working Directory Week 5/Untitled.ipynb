{
 "cells": [
  {
   "cell_type": "code",
   "execution_count": 1,
   "id": "5a8c95f7-e594-4f09-83e9-6a645524cbaf",
   "metadata": {},
   "outputs": [],
   "source": [
    "import numpy as np"
   ]
  },
  {
   "cell_type": "code",
   "execution_count": 25,
   "id": "bfb7f812-dfbd-4a3c-8673-f8734ca8e80e",
   "metadata": {},
   "outputs": [
    {
     "data": {
      "text/plain": [
       "False"
      ]
     },
     "execution_count": 25,
     "metadata": {},
     "output_type": "execute_result"
    }
   ],
   "source": [
    "var1 = 10\n",
    "\n",
    "var2 = 200\n",
    "\n",
    "result = var1 > var2\n",
    "\n",
    "result"
   ]
  },
  {
   "cell_type": "code",
   "execution_count": 9,
   "id": "6483729c-a3e4-40a3-b453-9cb01d7ac64e",
   "metadata": {},
   "outputs": [
    {
     "name": "stdout",
     "output_type": "stream",
     "text": [
      "[[1 2 3]\n",
      " [3 4 5]\n",
      " [5 4 6]] \n",
      "\n",
      "\n",
      " [[5 7 3]\n",
      " [2 0 9]\n",
      " [2 5 8]]\n"
     ]
    }
   ],
   "source": [
    "print(A,'\\n\\n\\n',B)"
   ]
  },
  {
   "cell_type": "code",
   "execution_count": 10,
   "id": "e8dd5a50-7a94-42a0-a459-2c934d75a525",
   "metadata": {},
   "outputs": [
    {
     "name": "stdout",
     "output_type": "stream",
     "text": [
      "[[ 5 14  9]\n",
      " [ 6  0 45]\n",
      " [10 20 48]]\n"
     ]
    }
   ],
   "source": [
    "print(A*B)"
   ]
  },
  {
   "cell_type": "code",
   "execution_count": 11,
   "id": "34b0b909-6b6f-4b03-a59e-7a7fcb04e925",
   "metadata": {},
   "outputs": [
    {
     "data": {
      "text/plain": [
       "array([[1, 3, 5],\n",
       "       [2, 4, 4],\n",
       "       [3, 5, 6]])"
      ]
     },
     "execution_count": 11,
     "metadata": {},
     "output_type": "execute_result"
    }
   ],
   "source": [
    "np.transpose(A)"
   ]
  },
  {
   "cell_type": "code",
   "execution_count": 12,
   "id": "28d3cc3e-e384-4b9f-a81b-5769d0a8f2c9",
   "metadata": {},
   "outputs": [
    {
     "data": {
      "text/plain": [
       "array([[15, 22, 45],\n",
       "       [33, 46, 85],\n",
       "       [45, 65, 99]])"
      ]
     },
     "execution_count": 12,
     "metadata": {},
     "output_type": "execute_result"
    }
   ],
   "source": [
    "np.dot(A,B)"
   ]
  },
  {
   "cell_type": "code",
   "execution_count": 15,
   "id": "b46643ae-bbab-4429-8ba0-1b83d89f951a",
   "metadata": {},
   "outputs": [
    {
     "data": {
      "text/plain": [
       "array([[-15,  12,  -3],\n",
       "       [ 36, -17,  -8],\n",
       "       [  2, -28,  17]])"
      ]
     },
     "execution_count": 15,
     "metadata": {},
     "output_type": "execute_result"
    }
   ],
   "source": [
    "np.cross(A,B)"
   ]
  },
  {
   "cell_type": "code",
   "execution_count": 16,
   "id": "4f347dcd-68ef-44aa-a464-7f1445258aaa",
   "metadata": {},
   "outputs": [
    {
     "data": {
      "text/plain": [
       "array([[ 6,  9,  6],\n",
       "       [ 5,  4, 14],\n",
       "       [ 7,  9, 14]])"
      ]
     },
     "execution_count": 16,
     "metadata": {},
     "output_type": "execute_result"
    }
   ],
   "source": [
    "A + B"
   ]
  },
  {
   "cell_type": "code",
   "execution_count": 17,
   "id": "9837d7e1-bfa7-4986-999d-020bffe9a92f",
   "metadata": {},
   "outputs": [
    {
     "data": {
      "text/plain": [
       "array([[-4, -5,  0],\n",
       "       [ 1,  4, -4],\n",
       "       [ 3, -1, -2]])"
      ]
     },
     "execution_count": 17,
     "metadata": {},
     "output_type": "execute_result"
    }
   ],
   "source": [
    "A-B"
   ]
  },
  {
   "cell_type": "code",
   "execution_count": 18,
   "id": "d066881d-27c2-4514-9194-790bf847b507",
   "metadata": {},
   "outputs": [
    {
     "data": {
      "text/plain": [
       "array([[17, 25, 15],\n",
       "       [12,  8, 37],\n",
       "       [16, 23, 36]])"
      ]
     },
     "execution_count": 18,
     "metadata": {},
     "output_type": "execute_result"
    }
   ],
   "source": [
    "2*A+3*B"
   ]
  },
  {
   "cell_type": "code",
   "execution_count": 20,
   "id": "da346e4d-6da9-41bc-86e0-ba2ffb749584",
   "metadata": {},
   "outputs": [
    {
     "data": {
      "text/plain": [
       "array([[1],\n",
       "       [2],\n",
       "       [3],\n",
       "       [3],\n",
       "       [4],\n",
       "       [5],\n",
       "       [5],\n",
       "       [4],\n",
       "       [6]])"
      ]
     },
     "execution_count": 20,
     "metadata": {},
     "output_type": "execute_result"
    }
   ],
   "source": [
    "A.reshape(9,1)"
   ]
  },
  {
   "cell_type": "code",
   "execution_count": 21,
   "id": "3cb394bc-022c-459c-b18f-80d5ccefe735",
   "metadata": {},
   "outputs": [
    {
     "data": {
      "text/plain": [
       "array([[5, 7, 3, 2, 0, 9, 2, 5, 8]])"
      ]
     },
     "execution_count": 21,
     "metadata": {},
     "output_type": "execute_result"
    }
   ],
   "source": [
    "B.reshape(1,9)"
   ]
  },
  {
   "cell_type": "code",
   "execution_count": 22,
   "id": "3505f780-8b79-42c5-885a-8d450c8375f9",
   "metadata": {},
   "outputs": [
    {
     "data": {
      "text/plain": [
       "array([[15, 22, 45],\n",
       "       [33, 46, 85],\n",
       "       [45, 65, 99]])"
      ]
     },
     "execution_count": 22,
     "metadata": {},
     "output_type": "execute_result"
    }
   ],
   "source": [
    "A@B"
   ]
  },
  {
   "cell_type": "code",
   "execution_count": 24,
   "id": "60948609-8eef-48da-ae76-a6edb719aea6",
   "metadata": {},
   "outputs": [
    {
     "data": {
      "text/plain": [
       "array([[ 5,  7,  3,  2,  0,  9,  2,  5,  8],\n",
       "       [10, 14,  6,  4,  0, 18,  4, 10, 16],\n",
       "       [15, 21,  9,  6,  0, 27,  6, 15, 24],\n",
       "       [15, 21,  9,  6,  0, 27,  6, 15, 24],\n",
       "       [20, 28, 12,  8,  0, 36,  8, 20, 32],\n",
       "       [25, 35, 15, 10,  0, 45, 10, 25, 40],\n",
       "       [25, 35, 15, 10,  0, 45, 10, 25, 40],\n",
       "       [20, 28, 12,  8,  0, 36,  8, 20, 32],\n",
       "       [30, 42, 18, 12,  0, 54, 12, 30, 48]])"
      ]
     },
     "execution_count": 24,
     "metadata": {},
     "output_type": "execute_result"
    }
   ],
   "source": [
    "A.reshape(1,9).T@B.reshape(9,1).T"
   ]
  },
  {
   "cell_type": "code",
   "execution_count": null,
   "id": "828f4caf-d6d7-4dde-8663-7743f5809f3d",
   "metadata": {},
   "outputs": [],
   "source": []
  }
 ],
 "metadata": {
  "kernelspec": {
   "display_name": "Python 3",
   "language": "python",
   "name": "python3"
  },
  "language_info": {
   "codemirror_mode": {
    "name": "ipython",
    "version": 3
   },
   "file_extension": ".py",
   "mimetype": "text/x-python",
   "name": "python",
   "nbconvert_exporter": "python",
   "pygments_lexer": "ipython3",
   "version": "3.9.2"
  }
 },
 "nbformat": 4,
 "nbformat_minor": 5
}
