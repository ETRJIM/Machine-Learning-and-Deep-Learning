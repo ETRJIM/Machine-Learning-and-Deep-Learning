{
 "cells": [
  {
   "cell_type": "markdown",
   "metadata": {},
   "source": [
    "___\n",
    "\n",
    "<a href='http://www.pieriandata.com'> <img src='../Pierian_Data_Logo.png' /></a>\n",
    "___"
   ]
  },
  {
   "cell_type": "markdown",
   "metadata": {},
   "source": [
    "# Sentiment Analysis Assessment - Solution\n",
    "\n",
    "## Task #1: Perform vector arithmetic on your own words\n",
    "Write code that evaluates vector arithmetic on your own set of related words. The goal is to come as close to an expected word as possible. Please feel free to share success stories in the Q&A Forum for this section!"
   ]
  },
  {
   "cell_type": "code",
   "execution_count": 9,
   "metadata": {},
   "outputs": [],
   "source": [
    "# Import spaCy and load the language library. Remember to use a larger model!\n",
    "import spacy\n",
    "nlp = spacy.load(r'en_core_web_lg')"
   ]
  },
  {
   "cell_type": "code",
   "execution_count": 10,
   "metadata": {},
   "outputs": [],
   "source": [
    "# Choose the words you wish to compare, and obtain their vectors\n",
    "dark = nlp.vocab['dark'].vector\n",
    "night = nlp.vocab['night'].vector\n",
    "day = nlp.vocab['day'].vector"
   ]
  },
  {
   "cell_type": "code",
   "execution_count": 14,
   "metadata": {},
   "outputs": [],
   "source": [
    "# Import spatial and define a cosine_similarity function\n",
    "from scipy.spatial.distance import cosine\n",
    "cossim = lambda vec1,vec2:1 - cosine(vec1,vec2)"
   ]
  },
  {
   "cell_type": "code",
   "execution_count": 19,
   "metadata": {},
   "outputs": [],
   "source": [
    "# Write an expression for vector arithmetic\n",
    "# For example: new_vector = word1 - word2 + word3\n",
    "result = dark - night + day"
   ]
  },
  {
   "cell_type": "code",
   "execution_count": 20,
   "metadata": {},
   "outputs": [
    {
     "name": "stdout",
     "output_type": "stream",
     "text": [
      "684830 228030\n"
     ]
    },
    {
     "data": {
      "text/plain": [
       "[(0.7918370366096497, 'dark'),\n",
       " (0.6262304186820984, 'darker'),\n",
       " (0.5997646450996399, 'brown'),\n",
       " (0.592257559299469, 'grey'),\n",
       " (0.590775728225708, 'gray'),\n",
       " (0.5880497694015503, 'pale'),\n",
       " (0.5465261340141296, 'black'),\n",
       " (0.545856773853302, 'white'),\n",
       " (0.5282500982284546, 'green'),\n",
       " (0.5277552008628845, 'darkest')]"
      ]
     },
     "execution_count": 20,
     "metadata": {},
     "output_type": "execute_result"
    }
   ],
   "source": [
    "# List the top ten closest vectors in the vocabulary to the result of the expression above\n",
    "count = 0\n",
    "iterations = 0\n",
    "similarities = []\n",
    "for s in nlp.vocab.vectors:\n",
    "    x = nlp.vocab[s].text \n",
    "    if (x.islower() and x.isalpha() and len(x)>=3 and len(x)<=11):\n",
    "        simi = cossim(result,nlp.vocab[s].vector)\n",
    "        similarities.append((simi,x))\n",
    "        count += 1\n",
    "    iterations += 1\n",
    "print(iterations,count)\n",
    "similarities = sorted(similarities)[::-1]\n",
    "similarities[:10]"
   ]
  },
  {
   "cell_type": "markdown",
   "metadata": {},
   "source": [
    "#### CHALLENGE: Write a function that takes in 3 strings, performs a-b+c arithmetic, and returns a top-ten result"
   ]
  },
  {
   "cell_type": "code",
   "execution_count": 26,
   "metadata": {},
   "outputs": [],
   "source": [
    "def vector_math(a,b,c):\n",
    "    similarities = []\n",
    "    result = nlp.vocab[a].vector - nlp.vocab[b].vector + nlp.vocab[c].vector\n",
    "    for s in nlp.vocab.vectors:\n",
    "        x = nlp.vocab[s].text \n",
    "        if (x.islower() and x.isalpha() and len(x)>=3):\n",
    "            simi = cossim(result,nlp.vocab[s].vector)\n",
    "            similarities.append((simi,x))\n",
    "    similarities = sorted(similarities)[::-1]\n",
    "    return similarities[:10]"
   ]
  },
  {
   "cell_type": "code",
   "execution_count": 27,
   "metadata": {},
   "outputs": [
    {
     "data": {
      "text/plain": [
       "[(0.8024259805679321, 'king'),\n",
       " (0.7880843877792358, 'queen'),\n",
       " (0.6401076912879944, 'prince'),\n",
       " (0.6208544373512268, 'kings'),\n",
       " (0.6125636100769043, 'princess'),\n",
       " (0.5800970792770386, 'royal'),\n",
       " (0.5787012577056885, 'throne'),\n",
       " (0.5743793845176697, 'queens'),\n",
       " (0.563362181186676, 'monarch'),\n",
       " (0.5520980954170227, 'kingdom')]"
      ]
     },
     "execution_count": 27,
     "metadata": {},
     "output_type": "execute_result"
    }
   ],
   "source": [
    "# Test the function on known words:\n",
    "vector_math('king','man','woman')"
   ]
  },
  {
   "cell_type": "markdown",
   "metadata": {},
   "source": [
    "## Task #2: Perform VADER Sentiment Analysis on your own review\n",
    "Write code that returns a set of SentimentIntensityAnalyzer polarity scores based on your own written review."
   ]
  },
  {
   "cell_type": "code",
   "execution_count": 28,
   "metadata": {},
   "outputs": [],
   "source": [
    "# Import SentimentIntensityAnalyzer and create an sid object\n",
    "from nltk.sentiment.vader import SentimentIntensityAnalyzer\n",
    "sid = SentimentIntensityAnalyzer()"
   ]
  },
  {
   "cell_type": "code",
   "execution_count": 54,
   "metadata": {},
   "outputs": [],
   "source": [
    "# Write a review as one continuous string (multiple sentences are ok)\n",
    "review = 'this is best??'"
   ]
  },
  {
   "cell_type": "code",
   "execution_count": 55,
   "metadata": {},
   "outputs": [
    {
     "data": {
      "text/plain": [
       "{'neg': 0.0, 'neu': 0.305, 'pos': 0.695, 'compound': 0.6767}"
      ]
     },
     "execution_count": 55,
     "metadata": {},
     "output_type": "execute_result"
    }
   ],
   "source": [
    "# Obtain the sid scores for your review\n",
    "sid.polarity_scores(review)"
   ]
  },
  {
   "cell_type": "markdown",
   "metadata": {},
   "source": [
    "### CHALLENGE: Write a function that takes in a review and returns a score of \"Positive\", \"Negative\" or \"Neutral\""
   ]
  },
  {
   "cell_type": "code",
   "execution_count": 56,
   "metadata": {},
   "outputs": [],
   "source": [
    "def review_rating(string):\n",
    "    if sid.polarity_scores(string)['compound'] > 0:\n",
    "        return 'Positive'\n",
    "    elif sid.polarity_scores(string)['compound'] == 0:\n",
    "        return 'Neutral'\n",
    "    else:\n",
    "        return 'Negative'"
   ]
  },
  {
   "cell_type": "code",
   "execution_count": 57,
   "metadata": {},
   "outputs": [
    {
     "data": {
      "text/plain": [
       "'Positive'"
      ]
     },
     "execution_count": 57,
     "metadata": {},
     "output_type": "execute_result"
    }
   ],
   "source": [
    "# Test the function on your review above:\n",
    "review_rating(review)"
   ]
  },
  {
   "cell_type": "markdown",
   "metadata": {},
   "source": [
    "## Great job!"
   ]
  }
 ],
 "metadata": {
  "kernelspec": {
   "display_name": "Python 3",
   "language": "python",
   "name": "python3"
  },
  "language_info": {
   "codemirror_mode": {
    "name": "ipython",
    "version": 3
   },
   "file_extension": ".py",
   "mimetype": "text/x-python",
   "name": "python",
   "nbconvert_exporter": "python",
   "pygments_lexer": "ipython3",
   "version": "3.9.2"
  }
 },
 "nbformat": 4,
 "nbformat_minor": 4
}
