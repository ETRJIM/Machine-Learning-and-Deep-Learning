{
 "cells": [
  {
   "cell_type": "code",
   "execution_count": 36,
   "metadata": {},
   "outputs": [],
   "source": [
    "import spacy\n",
    "from scipy.spatial.distance import cosine\n",
    "cosine_similarity = lambda vec1,vec2: 1-cosine(vec1,vec2)"
   ]
  },
  {
   "cell_type": "code",
   "execution_count": 37,
   "metadata": {},
   "outputs": [],
   "source": [
    "nlp_s = spacy.load('en_core_web_sm')\n",
    "nlp_m = spacy.load('en_core_web_md')\n",
    "nlp_l = spacy.load('en_core_web_lg')"
   ]
  },
  {
   "cell_type": "code",
   "execution_count": 38,
   "metadata": {},
   "outputs": [
    {
     "data": {
      "text/plain": [
       "4"
      ]
     },
     "execution_count": 38,
     "metadata": {},
     "output_type": "execute_result"
    }
   ],
   "source": [
    "nlp_s.vocab.vectors.shape\n",
    "len('dfgh')"
   ]
  },
  {
   "cell_type": "code",
   "execution_count": 68,
   "metadata": {},
   "outputs": [
    {
     "data": {
      "text/plain": [
       "(300,)"
      ]
     },
     "execution_count": 68,
     "metadata": {},
     "output_type": "execute_result"
    }
   ],
   "source": [
    "king = nlp_l.vocab['king'].vector\n",
    "man = nlp_l.vocab['man'].vector\n",
    "queen = nlp_l.vocab['woman'].vector\n",
    "new_vector = -man+king+queen\n",
    "new_vector.shape"
   ]
  },
  {
   "cell_type": "code",
   "execution_count": 69,
   "metadata": {},
   "outputs": [
    {
     "name": "stdout",
     "output_type": "stream",
     "text": [
      "684830 228030\n"
     ]
    },
    {
     "data": {
      "text/plain": [
       "[(0.8024259805679321, 'king'),\n",
       " (0.7880843877792358, 'queen'),\n",
       " (0.6401076912879944, 'prince'),\n",
       " (0.6208544373512268, 'kings'),\n",
       " (0.6125636100769043, 'princess'),\n",
       " (0.5800970792770386, 'royal'),\n",
       " (0.5787012577056885, 'throne'),\n",
       " (0.5743793845176697, 'queens'),\n",
       " (0.563362181186676, 'monarch'),\n",
       " (0.5520980954170227, 'kingdom')]"
      ]
     },
     "execution_count": 69,
     "metadata": {},
     "output_type": "execute_result"
    }
   ],
   "source": [
    "count = 0\n",
    "iterations = 0\n",
    "similarities = []\n",
    "for s in nlp_l.vocab.vectors:\n",
    "    x = nlp_l.vocab[s].text \n",
    "    if (x.islower() and x.isalpha() and len(x)>=3 and len(x)<=11):\n",
    "        simi = cosine_similarity(new_vector,nlp_l.vocab[s].vector)\n",
    "        similarities.append((simi,x))\n",
    "        count += 1\n",
    "    elif count>300000:\n",
    "        break\n",
    "    else:\n",
    "        pass\n",
    "    iterations += 1\n",
    "print(iterations,count)\n",
    "similarities = sorted(similarities)[::-1]\n",
    "similarities[:10]"
   ]
  },
  {
   "cell_type": "code",
   "execution_count": 56,
   "metadata": {},
   "outputs": [
    {
     "name": "stdout",
     "output_type": "stream",
     "text": [
      "12646065887601541794\n"
     ]
    }
   ],
   "source": [
    "for s in nlp_l.vocab.vectors:\n",
    "    print(s)\n",
    "    break"
   ]
  },
  {
   "cell_type": "code",
   "execution_count": 60,
   "metadata": {},
   "outputs": [
    {
     "data": {
      "text/plain": [
       "0.26306143403053284"
      ]
     },
     "execution_count": 60,
     "metadata": {},
     "output_type": "execute_result"
    }
   ],
   "source": [
    "cosine_similarity(new_vector,nlp_l.vocab[s].vector)"
   ]
  },
  {
   "cell_type": "code",
   "execution_count": null,
   "metadata": {},
   "outputs": [],
   "source": []
  }
 ],
 "metadata": {
  "kernelspec": {
   "display_name": "Python 3",
   "language": "python",
   "name": "python3"
  },
  "language_info": {
   "codemirror_mode": {
    "name": "ipython",
    "version": 3
   },
   "file_extension": ".py",
   "mimetype": "text/x-python",
   "name": "python",
   "nbconvert_exporter": "python",
   "pygments_lexer": "ipython3",
   "version": "3.9.2"
  },
  "metadata": {
   "interpreter": {
    "hash": "db51bddfd59cda518483f28904c7eaa29cc8a568fb0d8327ccc5fbccb784f51a"
   }
  }
 },
 "nbformat": 4,
 "nbformat_minor": 4
}
