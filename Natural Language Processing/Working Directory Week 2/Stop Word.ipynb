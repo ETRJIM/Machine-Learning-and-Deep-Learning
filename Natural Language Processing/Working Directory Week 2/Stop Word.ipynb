{
 "cells": [
  {
   "cell_type": "code",
   "execution_count": 1,
   "metadata": {},
   "outputs": [],
   "source": [
    "import spacy\n",
    "nlp = spacy.load(r'en_core_web_sm')"
   ]
  },
  {
   "cell_type": "code",
   "execution_count": 2,
   "metadata": {},
   "outputs": [
    {
     "name": "stdout",
     "output_type": "stream",
     "text": [
      "{'whose', 'under', 'make', 'just', 'in', 'whole', 'really', 'another', 'does', 'themselves', 'we', 'about', '‘ve', 'fifteen', '’ve', 'until', 'may', 'off', 'is', 'moreover', 'throughout', 'otherwise', 'once', 'several', 'rather', 'wherever', 'what', 'part', 'from', 'then', 'during', '’s', \"'re\", 'its', 'somehow', 'thereby', '’re', 'well', 'why', 'around', 'will', 'there', 'therein', 'each', 'hence', 'whereas', 'without', 'already', 'across', 'beside', 'besides', 'thru', 'her', \"n't\", 'go', 'an', 'these', 'anyway', 'only', 'beforehand', 'herself', 'five', 'their', 'everywhere', 'mine', 'us', '‘ll', 'as', 'regarding', 'done', 'into', 'against', 'whereby', 'because', 'for', 'forty', 'can', 'per', '’m', 'the', 'must', 'they', 'mostly', 'been', 'my', 'take', 'am', 'whoever', 'not', 'after', 'becoming', 'seem', 'hers', 'together', 'do', 'out', 'n’t', 'quite', 'more', 'did', 'he', 'might', 'now', 'seemed', 'someone', 'up', 'although', 'put', '‘re', 'yourselves', 'move', 'thereafter', 'though', 'behind', '‘s', 'myself', 'latter', 'six', 'unless', 'himself', 'however', 'somewhere', 'give', 'nowhere', 'most', 'above', 'hereby', 'thereupon', 'upon', 'became', 'much', 'nor', 're', 'when', 'whence', 'four', 'herein', 'nothing', 'thus', 'hundred', 'elsewhere', 'first', '’d', 'often', 'anything', 'others', 'least', 'should', 'even', 'to', 'become', 'on', 'back', 'twelve', \"'ve\", 'get', 'are', \"'d\", 'i', 'alone', 'except', 'never', 'were', 'very', 'amount', 'over', 'almost', 'no', 'own', 'either', 'since', 'you', 'latterly', 'which', 'a', 'our', 'she', 'such', 'hereupon', 'n‘t', 'him', 'also', 'doing', 'whether', 'indeed', 'please', 'but', 'ever', 'between', 'name', 'amongst', 'else', 'other', 'none', 'thence', 'full', 'where', 'whenever', 'ours', 'meanwhile', 'serious', 'becomes', 'eleven', \"'m\", 'hereafter', 'last', 'bottom', 'whom', 'anyone', \"'ll\", 'still', 'be', 'at', 'via', 'enough', 'those', 'side', 'one', 'call', 'made', 'next', 'everyone', 'top', 'itself', 'nevertheless', 'towards', 'how', 'yours', 'down', 'while', 'every', 'always', 'keep', 'could', 'perhaps', '‘d', 'some', 'various', 'yourself', 'less', 'of', 'before', 'further', 'three', 'namely', 'something', 'formerly', 'so', 'it', 'whatever', 'whither', 'ca', 'all', 'used', 'being', 'third', 'due', 'wherein', 'along', 'whereupon', 'sometime', 'see', 'would', 'seems', 'or', 'sixty', 'them', 'yet', 'two', 'beyond', 'this', \"'s\", 'front', 'ourselves', 'by', 'former', 'whereafter', 'many', 'therefore', '’ll', 'through', 'anywhere', 'anyhow', 'too', 'your', 'within', 'same', 'who', 'both', 'sometimes', 'onto', 'nine', 'again', 'few', 'and', 'everything', 'toward', 'neither', 'fifty', 'than', 'has', 'here', 'below', 'with', '‘m', 'his', 'among', 'cannot', 'show', 'eight', 'say', 'any', 'seeming', 'nobody', 'empty', 'twenty', 'me', 'ten', 'was', 'using', 'if', 'that', 'had', 'afterwards', 'noone', 'have'}\n"
     ]
    }
   ],
   "source": [
    "print(nlp.Defaults.stop_words)"
   ]
  },
  {
   "cell_type": "code",
   "execution_count": 3,
   "metadata": {},
   "outputs": [
    {
     "data": {
      "text/plain": [
       "326"
      ]
     },
     "execution_count": 3,
     "metadata": {},
     "output_type": "execute_result"
    }
   ],
   "source": [
    "len(nlp.Defaults.stop_words)"
   ]
  },
  {
   "cell_type": "code",
   "execution_count": 4,
   "metadata": {},
   "outputs": [
    {
     "data": {
      "text/plain": [
       "True"
      ]
     },
     "execution_count": 4,
     "metadata": {},
     "output_type": "execute_result"
    }
   ],
   "source": [
    "nlp.vocab['is'].is_stop"
   ]
  },
  {
   "cell_type": "code",
   "execution_count": 5,
   "metadata": {},
   "outputs": [
    {
     "data": {
      "text/plain": [
       "False"
      ]
     },
     "execution_count": 5,
     "metadata": {},
     "output_type": "execute_result"
    }
   ],
   "source": [
    "nlp.vocab['btw'].is_stop"
   ]
  },
  {
   "cell_type": "code",
   "execution_count": 6,
   "metadata": {},
   "outputs": [],
   "source": [
    "nlp.Defaults.stop_words.add('btw')"
   ]
  },
  {
   "cell_type": "code",
   "execution_count": 7,
   "metadata": {},
   "outputs": [],
   "source": [
    "nlp.vocab['btw'].is_stop = True"
   ]
  },
  {
   "cell_type": "code",
   "execution_count": 8,
   "metadata": {},
   "outputs": [
    {
     "data": {
      "text/plain": [
       "327"
      ]
     },
     "execution_count": 8,
     "metadata": {},
     "output_type": "execute_result"
    }
   ],
   "source": [
    "len(nlp.Defaults.stop_words)"
   ]
  },
  {
   "cell_type": "code",
   "execution_count": 9,
   "metadata": {},
   "outputs": [],
   "source": [
    "nlp.Defaults.stop_words.remove('beyond')"
   ]
  },
  {
   "cell_type": "code",
   "execution_count": 10,
   "metadata": {},
   "outputs": [],
   "source": [
    "nlp.vocab['beyond'].is_stop = False"
   ]
  },
  {
   "cell_type": "code",
   "execution_count": 11,
   "metadata": {},
   "outputs": [
    {
     "data": {
      "text/plain": [
       "False"
      ]
     },
     "execution_count": 11,
     "metadata": {},
     "output_type": "execute_result"
    }
   ],
   "source": [
    "nlp.vocab['beyond'].is_stop"
   ]
  },
  {
   "cell_type": "code",
   "execution_count": 12,
   "metadata": {},
   "outputs": [
    {
     "data": {
      "text/plain": [
       "326"
      ]
     },
     "execution_count": 12,
     "metadata": {},
     "output_type": "execute_result"
    }
   ],
   "source": [
    "len(nlp.Defaults.stop_words)"
   ]
  }
 ],
 "metadata": {
  "kernelspec": {
   "display_name": "Python 3",
   "language": "python",
   "name": "python3"
  },
  "language_info": {
   "codemirror_mode": {
    "name": "ipython",
    "version": 3
   },
   "file_extension": ".py",
   "mimetype": "text/x-python",
   "name": "python",
   "nbconvert_exporter": "python",
   "pygments_lexer": "ipython3",
   "version": "3.9.2"
  },
  "metadata": {
   "interpreter": {
    "hash": "db51bddfd59cda518483f28904c7eaa29cc8a568fb0d8327ccc5fbccb784f51a"
   }
  }
 },
 "nbformat": 4,
 "nbformat_minor": 4
}
