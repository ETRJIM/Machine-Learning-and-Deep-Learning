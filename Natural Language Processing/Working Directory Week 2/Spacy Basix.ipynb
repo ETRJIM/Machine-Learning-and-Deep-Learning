{
 "cells": [
  {
   "cell_type": "code",
   "execution_count": 1,
   "metadata": {},
   "outputs": [],
   "source": [
    "import spacy"
   ]
  },
  {
   "cell_type": "code",
   "execution_count": 2,
   "metadata": {},
   "outputs": [],
   "source": [
    "nlp = spacy.load(r'en_core_web_sm')"
   ]
  },
  {
   "cell_type": "code",
   "execution_count": 3,
   "metadata": {},
   "outputs": [],
   "source": [
    "doc = nlp(u'Tesla is looking at U.S.S.R for buying $6 million worth of cost')"
   ]
  },
  {
   "cell_type": "code",
   "execution_count": 4,
   "metadata": {},
   "outputs": [
    {
     "name": "stdout",
     "output_type": "stream",
     "text": [
      "Tesla                96 PROPN            nsubj\n",
      "is                   87 AUX              aux\n",
      "looking              100 VERB             ROOT\n",
      "at                   85 ADP              prep\n",
      "U.S.S.R              96 PROPN            pobj\n",
      "for                  85 ADP              prep\n",
      "buying               100 VERB             pcomp\n",
      "$                    99 SYM              quantmod\n",
      "6                    93 NUM              compound\n",
      "million              93 NUM              nummod\n",
      "worth                92 NOUN             dobj\n",
      "of                   85 ADP              prep\n",
      "cost                 92 NOUN             pobj\n"
     ]
    }
   ],
   "source": [
    "for token in doc:\n",
    "  print(f'{token.text:20} {token.pos:1} {token.pos_:15}  {token.dep_}')  "
   ]
  },
  {
   "cell_type": "code",
   "execution_count": 5,
   "metadata": {},
   "outputs": [
    {
     "data": {
      "text/plain": [
       "[('tok2vec', <spacy.pipeline.tok2vec.Tok2Vec at 0x2329f288450>),\n",
       " ('tagger', <spacy.pipeline.tagger.Tagger at 0x2329f2def90>),\n",
       " ('parser', <spacy.pipeline.dep_parser.DependencyParser at 0x2329f2da160>),\n",
       " ('ner', <spacy.pipeline.ner.EntityRecognizer at 0x2329f0e5ac0>),\n",
       " ('attribute_ruler',\n",
       "  <spacy.pipeline.attributeruler.AttributeRuler at 0x2329f2813c0>),\n",
       " ('lemmatizer', <spacy.lang.en.lemmatizer.EnglishLemmatizer at 0x2329f2740c0>)]"
      ]
     },
     "execution_count": 5,
     "metadata": {},
     "output_type": "execute_result"
    }
   ],
   "source": [
    "nlp.pipeline"
   ]
  },
  {
   "cell_type": "code",
   "execution_count": 6,
   "metadata": {},
   "outputs": [
    {
     "data": {
      "text/plain": [
       "['tok2vec', 'tagger', 'parser', 'ner', 'attribute_ruler', 'lemmatizer']"
      ]
     },
     "execution_count": 6,
     "metadata": {},
     "output_type": "execute_result"
    }
   ],
   "source": [
    "nlp.pipe_names"
   ]
  },
  {
   "cell_type": "code",
   "execution_count": null,
   "metadata": {},
   "outputs": [],
   "source": []
  },
  {
   "cell_type": "code",
   "execution_count": 7,
   "metadata": {},
   "outputs": [],
   "source": [
    "doc2 = nlp(u\"I got kishmish      from my mom but my sister didn't.\")"
   ]
  },
  {
   "cell_type": "code",
   "execution_count": 8,
   "metadata": {},
   "outputs": [
    {
     "name": "stdout",
     "output_type": "stream",
     "text": [
      "I                    PRON             nsubj\n",
      "got                  VERB             ROOT\n",
      "kishmish             ADJ              amod\n",
      "                     SPACE            dobj\n",
      "from                 ADP              prep\n",
      "my                   PRON             poss\n",
      "mom                  NOUN             pobj\n",
      "but                  CCONJ            cc\n",
      "my                   PRON             poss\n",
      "sister               NOUN             nsubj\n",
      "did                  VERB             conj\n",
      "n't                  PART             neg\n",
      ".                    PUNCT            punct\n"
     ]
    }
   ],
   "source": [
    "for token in doc2:\n",
    "   print(f'{token.text:20} {token.pos_:15}  {token.dep_}')  "
   ]
  },
  {
   "cell_type": "code",
   "execution_count": 9,
   "metadata": {},
   "outputs": [],
   "source": [
    "doc3 = nlp(u'Gaius Julius Caesar was born into a patrician family, the gens Julia, which claimed descent from Julus, son of the legendary Trojan prince Aeneas, supposedly the son of the goddess Venus. 6 The Julii were of Alban origin, mentioned as one of the leading Alban houses, which settled in Rome around the mid-7th century BC, following the destruction of Alba Longa. They were granted patrician status, along with other noble Alban families.')"
   ]
  },
  {
   "cell_type": "code",
   "execution_count": 10,
   "metadata": {},
   "outputs": [
    {
     "name": "stdout",
     "output_type": "stream",
     "text": [
      "from Julus, son of the legendary Trojan prince Aeneas, supposedly the son of the goddess\n"
     ]
    }
   ],
   "source": [
    "julius = doc3[17:34]\n",
    "print(julius)"
   ]
  },
  {
   "cell_type": "code",
   "execution_count": 11,
   "metadata": {},
   "outputs": [
    {
     "data": {
      "text/plain": [
       "spacy.tokens.span.Span"
      ]
     },
     "execution_count": 11,
     "metadata": {},
     "output_type": "execute_result"
    }
   ],
   "source": [
    "type(julius)"
   ]
  },
  {
   "cell_type": "code",
   "execution_count": 12,
   "metadata": {},
   "outputs": [
    {
     "data": {
      "text/plain": [
       "spacy.tokens.doc.Doc"
      ]
     },
     "execution_count": 12,
     "metadata": {},
     "output_type": "execute_result"
    }
   ],
   "source": [
    "type(doc3)"
   ]
  },
  {
   "cell_type": "code",
   "execution_count": 13,
   "metadata": {},
   "outputs": [],
   "source": [
    "doc4 = nlp(u\"This is the first sentence. This is another sentence. This is last statement.\")"
   ]
  },
  {
   "cell_type": "code",
   "execution_count": 14,
   "metadata": {},
   "outputs": [
    {
     "name": "stdout",
     "output_type": "stream",
     "text": [
      "This is the first sentence.\n",
      "This is another sentence.\n",
      "This is last statement.\n"
     ]
    }
   ],
   "source": [
    "for sentence in doc4.sents:\n",
    "    print(sentence)"
   ]
  },
  {
   "cell_type": "code",
   "execution_count": 15,
   "metadata": {},
   "outputs": [
    {
     "data": {
      "text/plain": [
       "True"
      ]
     },
     "execution_count": 15,
     "metadata": {},
     "output_type": "execute_result"
    }
   ],
   "source": [
    "doc4[6].is_sent_start"
   ]
  },
  {
   "cell_type": "code",
   "execution_count": 16,
   "metadata": {},
   "outputs": [
    {
     "data": {
      "text/plain": [
       "False"
      ]
     },
     "execution_count": 16,
     "metadata": {},
     "output_type": "execute_result"
    }
   ],
   "source": [
    "doc4[8].is_sent_start"
   ]
  }
 ],
 "metadata": {
  "kernelspec": {
   "display_name": "Python 3",
   "language": "python",
   "name": "python3"
  },
  "language_info": {
   "codemirror_mode": {
    "name": "ipython",
    "version": 3
   },
   "file_extension": ".py",
   "mimetype": "text/x-python",
   "name": "python",
   "nbconvert_exporter": "python",
   "pygments_lexer": "ipython3",
   "version": "3.9.2"
  },
  "metadata": {
   "interpreter": {
    "hash": "db51bddfd59cda518483f28904c7eaa29cc8a568fb0d8327ccc5fbccb784f51a"
   }
  }
 },
 "nbformat": 4,
 "nbformat_minor": 4
}
